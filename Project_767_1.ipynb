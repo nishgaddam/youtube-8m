{
 "cells": [
  {
   "cell_type": "code",
   "execution_count": 1,
   "metadata": {},
   "outputs": [
    {
     "name": "stdout",
     "output_type": "stream",
     "text": [
      "Boston Univ\n",
      "Involved\n",
      "Machine Learning\n",
      "Nitish-Gaddam-CIFAR-10.ipynb\n",
      "Print\n",
      "Project commands used.docx\n",
      "Project_767.ipynb\n",
      "Project_767_1.ipynb\n",
      "Project_design_nitish.docx\n",
      "Random\n",
      "Resume\n",
      "Sublime Text 3\n",
      "TensorFlow\n",
      "Untitled.ipynb\n",
      "Untitled1.ipynb\n",
      "buddha.jpg\n",
      "download.py\n",
      "dumbfuck\n",
      "experiment.py\n",
      "jobs.xlsx\n",
      "newdata\n",
      "nish.py\n",
      "prexel\n",
      "python3.docx\n",
      "~$oject commands used.docx\n",
      "~$ython3.docx\n",
      "\n"
     ]
    }
   ],
   "source": [
    "# This Python 3 environment comes with many helpful analytics libraries installed\n",
    "# It is defined by the kaggle/python docker image: https://github.com/kaggle/docker-python\n",
    "# For example, here's several helpful packages to load in \n",
    "\n",
    "import numpy as np # linear algebra\n",
    "import pandas as pd # data processing, CSV file I/O (e.g. pd.read_csv)\n",
    "\n",
    "# Input data files are available in the \"../input/\" directory.\n",
    "# For example, running this (by clicking run or pressing Shift+Enter) will list the files in the input directory\n",
    "\n",
    "from subprocess import check_output\n",
    "print(check_output([\"ls\", \".\"]).decode(\"utf8\"))\n",
    "\n",
    "# Any results you write to the current directory are saved as output."
   ]
  },
  {
   "cell_type": "code",
   "execution_count": 2,
   "metadata": {},
   "outputs": [],
   "source": [
    "import tensorflow as tf\n",
    "import numpy as np\n",
    "from IPython.display import YouTubeVideo\n",
    "\n",
    "tf.reset_default_graph()\n",
    "\n",
    "video_lvl_record = \"/Users/gaddamnitish/features/train0-.tfrecord\"\n",
    "frame_lvl_record = \"/Users/gaddamnitish/features/train0-.tfrecord\"\n",
    "\n",
    "# now, let's read the frame-level data\n",
    "# due to execution time, we're only going to read the first video\n",
    "\n",
    "feat_rgb = []\n",
    "feat_audio = []\n",
    "targets = []\n",
    "\n",
    "num_labels = 4716\n",
    "\n",
    "def createTargetVec(labels):\n",
    "    out = np.zeros((1, num_labels))\n",
    "    for label in labels:\n",
    "        out[0,label] = 1\n",
    "    return out\n",
    "\n",
    "samples = 15\n",
    "base = np.empty((samples, 100, 128))\n",
    "tars = np.empty((samples, num_labels))\n",
    " "
   ]
  },
  {
   "cell_type": "code",
   "execution_count": 3,
   "metadata": {},
   "outputs": [
    {
     "ename": "IndexError",
     "evalue": "list index out of range",
     "output_type": "error",
     "traceback": [
      "\u001b[0;31m---------------------------------------------------------------------------\u001b[0m",
      "\u001b[0;31mIndexError\u001b[0m                                Traceback (most recent call last)",
      "\u001b[0;32m<ipython-input-3-9547ff9985b7>\u001b[0m in \u001b[0;36m<module>\u001b[0;34m()\u001b[0m\n\u001b[1;32m     19\u001b[0m \u001b[0;34m\u001b[0m\u001b[0m\n\u001b[1;32m     20\u001b[0m         f = tf.cast(tf.decode_raw(\n\u001b[0;32m---> 21\u001b[0;31m                 tf_seq_example.feature_lists.feature_list['audio'].feature[i].bytes_list.value[0],tf.uint8)\n\u001b[0m\u001b[1;32m     22\u001b[0m                    ,tf.float32).eval()\n\u001b[1;32m     23\u001b[0m     \u001b[0mframe\u001b[0m\u001b[0;34m[\u001b[0m\u001b[0mi\u001b[0m\u001b[0;34m]\u001b[0m \u001b[0;34m=\u001b[0m \u001b[0mf\u001b[0m\u001b[0;34m\u001b[0m\u001b[0m\n",
      "\u001b[0;31mIndexError\u001b[0m: list index out of range"
     ]
    }
   ],
   "source": [
    "# there are 4716 different labels. therefore we need to predict a vector\n",
    "# with probabilities. the 5 labels with the highest probability will then be selected \n",
    "# for submission.\n",
    "k = 0\n",
    "sess = tf.InteractiveSession()\n",
    "for example in tf.python_io.tf_record_iterator(frame_lvl_record):        \n",
    "    tf_seq_example = tf.train.SequenceExample.FromString(example)\n",
    "    labels = tf_seq_example.context.feature['labels'].int64_list.value\n",
    "    n_frames = len(tf_seq_example.feature_lists.feature_list['audio'].feature)\n",
    "    rgb_frame = []\n",
    "    audio_frame = []\n",
    "    frame = np.zeros((100, 128))\n",
    "    for i in range(100):\n",
    "        \n",
    "#        f = rgb_frame.append(tf.cast(tf.decode_raw(\n",
    "#                tf_seq_example.feature_lists.feature_list['rgb'].feature[i].bytes_list.value[0],tf.uint8)\n",
    "#                   ,tf.float32).eval())\n",
    "        \n",
    "        \n",
    "        f = tf.cast(tf.decode_raw(\n",
    "                tf_seq_example.feature_lists.feature_list['audio'].feature[i].bytes_list.value[0],tf.uint8)\n",
    "                   ,tf.float32).eval()\n",
    "    frame[i] = f\n",
    "    base[k] = frame\n",
    "    tars[k] = createTargetVec(labels[:])\n",
    "    k += 1\n",
    "    progress = (k / samples) * 100\n",
    "    if int(progress) % 10 == 0:\n",
    "        print(\"Progress\", progress, \"%\")\n",
    "    if k >= samples:\n",
    "        break\n",
    "sess.close()"
   ]
  },
  {
   "cell_type": "code",
   "execution_count": 4,
   "metadata": {},
   "outputs": [
    {
     "name": "stdout",
     "output_type": "stream",
     "text": [
      "12 train sequences\n",
      "3 test sequences\n",
      "X_train shape: (12, 100, 128)\n",
      "X_test shape: (3, 100, 128)\n",
      "y_train shape: (12, 4716)\n",
      "y_test shape: (3, 4716)\n"
     ]
    }
   ],
   "source": [
    "    \n",
    "feat_audio_ = np.asarray(feat_audio)\n",
    "targets_ = np.asarray(tars)\n",
    "from sklearn.model_selection import train_test_split\n",
    "X_train, X_test, y_train, y_test = train_test_split(base, tars, test_size=0.2, random_state=42)\n",
    "    \n",
    "print(len(X_train), 'train sequences')\n",
    "print(len(X_test), 'test sequences')\n",
    "print('X_train shape:', X_train.shape)\n",
    "print('X_test shape:', X_test.shape)\n",
    "print('y_train shape:', y_train.shape)\n",
    "print('y_test shape:', y_test.shape)\n",
    "    "
   ]
  },
  {
   "cell_type": "code",
   "execution_count": 5,
   "metadata": {},
   "outputs": [
    {
     "ename": "ModuleNotFoundError",
     "evalue": "No module named 'keras'",
     "output_type": "error",
     "traceback": [
      "\u001b[0;31m---------------------------------------------------------------------------\u001b[0m",
      "\u001b[0;31mModuleNotFoundError\u001b[0m                       Traceback (most recent call last)",
      "\u001b[0;32m<ipython-input-5-9d1fbd6f2346>\u001b[0m in \u001b[0;36m<module>\u001b[0;34m()\u001b[0m\n\u001b[1;32m      1\u001b[0m \u001b[0;34m\u001b[0m\u001b[0m\n\u001b[0;32m----> 2\u001b[0;31m \u001b[0;32mfrom\u001b[0m \u001b[0mkeras\u001b[0m\u001b[0;34m.\u001b[0m\u001b[0mmodels\u001b[0m \u001b[0;32mimport\u001b[0m \u001b[0mSequential\u001b[0m\u001b[0;34m\u001b[0m\u001b[0m\n\u001b[0m\u001b[1;32m      3\u001b[0m \u001b[0;32mfrom\u001b[0m \u001b[0mkeras\u001b[0m\u001b[0;34m.\u001b[0m\u001b[0mlayers\u001b[0m \u001b[0;32mimport\u001b[0m \u001b[0mDense\u001b[0m\u001b[0;34m\u001b[0m\u001b[0m\n\u001b[1;32m      4\u001b[0m \u001b[0;32mfrom\u001b[0m \u001b[0mkeras\u001b[0m\u001b[0;34m.\u001b[0m\u001b[0mlayers\u001b[0m \u001b[0;32mimport\u001b[0m \u001b[0mLSTM\u001b[0m\u001b[0;34m\u001b[0m\u001b[0m\n\u001b[1;32m      5\u001b[0m \u001b[0;34m\u001b[0m\u001b[0m\n",
      "\u001b[0;31mModuleNotFoundError\u001b[0m: No module named 'keras'"
     ]
    }
   ],
   "source": [
    "\n",
    "from keras.models import Sequential\n",
    "from keras.layers import Dense\n",
    "from keras.layers import LSTM\n",
    "\n",
    "model = Sequential()\n",
    "model.add(LSTM(128, input_shape=X_train.shape[1:], return_sequences=True))\n",
    "model.add(LSTM(128, return_sequences=True))\n",
    "model.add(LSTM(128))\n",
    "model.add(Dense(128, activation='relu'))\n",
    "model.add(Dense(128, activation='relu'))\n",
    "model.add(Dense(num_labels, activation='softmax'))\n",
    "model.compile(loss='categorical_crossentropy', optimizer='adam', metrics=['accuracy'])\n",
    "print(model.summary())\n",
    "model.fit(X_train, y_train, validation_data=(X_test, y_test), epochs=60, batch_size=64)\n"
   ]
  },
  {
   "cell_type": "code",
   "execution_count": null,
   "metadata": {},
   "outputs": [],
   "source": []
  },
  {
   "cell_type": "code",
   "execution_count": null,
   "metadata": {},
   "outputs": [],
   "source": []
  }
 ],
 "metadata": {
  "kernelspec": {
   "display_name": "Python 3",
   "language": "python",
   "name": "python3"
  },
  "language_info": {
   "codemirror_mode": {
    "name": "ipython",
    "version": 3
   },
   "file_extension": ".py",
   "mimetype": "text/x-python",
   "name": "python",
   "nbconvert_exporter": "python",
   "pygments_lexer": "ipython3",
   "version": "3.6.4"
  }
 },
 "nbformat": 4,
 "nbformat_minor": 2
}
